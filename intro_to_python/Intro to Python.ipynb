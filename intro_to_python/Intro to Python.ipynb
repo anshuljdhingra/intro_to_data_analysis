{
 "cells": [
  {
   "cell_type": "markdown",
   "metadata": {},
   "source": [
    "# Intro to Python\n",
    "By Carl Shan"
   ]
  },
  {
   "cell_type": "markdown",
   "metadata": {},
   "source": [
    "[Python](www.python.org) is one of the world's most popular programming languages. It's used by companies, universities and professionals all over the world. \n",
    "\n",
    "We will be using it in class as our main programming language.\n",
    "\n",
    "This Jupyter Notebook will contain a series of exercises that get you up to speed on the following topics:\n",
    "\n",
    "1. Variables\n",
    "2. Loops\n",
    "3. Conditionals\n",
    "4. Lists\n",
    "5. Functions\n",
    "6. Dictionaries\n",
    "\n",
    "Each section will be followed by exercises that I ask you to try and complete."
   ]
  },
  {
   "cell_type": "code",
   "execution_count": 1,
   "metadata": {},
   "outputs": [],
   "source": [
    "## Ignore this. I'm just setting some things up.\n",
    "from IPython.display import HTML"
   ]
  },
  {
   "cell_type": "markdown",
   "metadata": {},
   "source": [
    "## Variables"
   ]
  },
  {
   "cell_type": "markdown",
   "metadata": {},
   "source": [
    "Variables is one of the most important and universal ideas in programming.\n",
    "\n",
    "A `variable` is something that stores some data that we want to use later.\n",
    "\n",
    "It generally looks like this:\n",
    "\n",
    "`name = 'Carl'`\n",
    "\n",
    "Below I will three variables in Python:\n",
    "\n",
    "```python\n",
    "school = 'Nueva'\n",
    "\n",
    "age = 14\n",
    "\n",
    "subject = 'Data Analytics'\n",
    "```\n",
    "\n",
    "### A visual metaphor\n",
    "\n",
    "To help you remember variables, think of them this way.\n",
    "\n",
    "Imagine them as an empty box:\n",
    "\n",
    "![Box](https://cdn1.bigcommerce.com/server600/99si0d/products/1260/images/25889/Kraft-Soap-Boxes-with-no-Window__65332.1390245785.350.350.jpg?c=2)\n",
    "\n",
    "When you create a variable, you a really making a box, labeling it and putting some objects inside of it.\n",
    "\n",
    "![Filled box](https://d2gg9evh47fn9z.cloudfront.net/800px_COLOURBOX2847538.jpg)\n",
    "\n",
    "You can watch the video below if you still feel unsure about what variables are.\n"
   ]
  },
  {
   "cell_type": "code",
   "execution_count": 2,
   "metadata": {
    "scrolled": false
   },
   "outputs": [
    {
     "data": {
      "text/html": [
       "<iframe width=\"560\" height=\"315\" src=\"https://www.youtube-nocookie.com/embed/OH86oLzVzzw?rel=0\" frameborder=\"0\" allow=\"autoplay; encrypted-media\" allowfullscreen></iframe>"
      ],
      "text/plain": [
       "<IPython.core.display.HTML object>"
      ]
     },
     "execution_count": 2,
     "metadata": {},
     "output_type": "execute_result"
    }
   ],
   "source": [
    "HTML('<iframe width=\"560\" height=\"315\" src=\"https://www.youtube-nocookie.com/embed/OH86oLzVzzw?rel=0\" frameborder=\"0\" allow=\"autoplay; encrypted-media\" allowfullscreen></iframe>')"
   ]
  },
  {
   "cell_type": "markdown",
   "metadata": {},
   "source": [
    "Variables in Python are simply declared using the following syntax:\n",
    "\n",
    "```python \n",
    "your_variable_here = 'your_value_here' \n",
    "```\n",
    "\n",
    "Here are a few examples:\n",
    "\n",
    "#### Example 1: You can set variables to numbers.\n",
    "\n",
    "\n",
    "```python\n",
    "x = 5\n",
    "```\n",
    "\n",
    "#### Example 2: You can also set variables to pieces of text, which in programming we call `strings` (since pieces of text are simply *strings* of letters).\n",
    "\n",
    "```python\n",
    "my_name = 'Carl'\n",
    "```\n",
    "\n",
    "\n",
    "#### Example 3: You can also combine variables together.\n",
    "\n",
    "```python\n",
    "x = 1 \n",
    "y = 2\n",
    "z = x + y \n",
    "print(z) # This will print 3\n",
    "\n",
    "```\n",
    "\n",
    "\n",
    "**Important**: In the above example the `#` symbol in Python is used to denote a comment."
   ]
  },
  {
   "cell_type": "code",
   "execution_count": 2,
   "metadata": {},
   "outputs": [
    {
     "name": "stdout",
     "output_type": "stream",
     "text": [
      "15\n"
     ]
    }
   ],
   "source": [
    "## YOUR EXERCISES\n",
    "\n",
    "# 1. Make a variable called `name` and set it equal to your full name.\n",
    "\n",
    "x = 5\n",
    "y = 10\n",
    "z = x + y\n",
    "\n",
    "print(z)\n",
    "\n",
    "# 2. Discover at least 3 symbols that cannot be used in a variable name.\n",
    "# List them below as a Python comment.\n"
   ]
  },
  {
   "cell_type": "markdown",
   "metadata": {},
   "source": [
    "## Types of Data\n",
    "\n",
    "Variables can hold many different `types` of data. \n",
    "\n",
    "What do I mean by `types`?\n",
    "\n",
    "Well, Python (and most major programming languges) have multiple types of data.\n",
    "\n",
    "I will briefly introduce you to a few types below:\n",
    "\n",
    "\n",
    "#### Numbers\n",
    "One type of data in Python are just numbers. These numbers can be `integers` or `floats`. `integers` are whole-numbers (including negatives) and `floats` are decimal numbers.\n",
    "\n",
    "```python\n",
    "x = 5 # this is an `int`\n",
    "\n",
    "y = 3.1415 # this is a `float`\n",
    "```\n",
    "\n",
    "\n",
    "#### Strings\n",
    "Another type of data are called `strings` that represent text.\n",
    "\n",
    "We call it `strings` because it means \"strings of characters\"\n",
    "\n",
    "```python\n",
    "name = \"Carl\"\n",
    "```\n",
    "Notice that to set a variable to a string, you put the value `Carl` in quotes as such `\"Carl\"`. That tells Python that the value `\"Carl\"` is a `string`.\n",
    "\n",
    "\n",
    "#### Boolean (True/False)\n",
    "The final data type I want to introduce to you are called `booleans`. The `boolean` data type holds two values: `True` and `False`.\n",
    "\n",
    "`True` and `False` are neither numbers nor `strings`. They are `boolean` values that represent truth and falsehood.\n",
    "\n",
    "```python\n",
    "x = True\n",
    "\n",
    "y = False\n",
    "```\n",
    "\n",
    "Why do we need these?\n",
    "\n",
    "It's because when Python evaluates certain expressions like the below, it will try to convert the expression into `boolean` final output:\n",
    "\n",
    "```python\n",
    "\n",
    "x = 55\n",
    "\n",
    "if x < 100:\n",
    "    print(\"x is smaller than 100!\")\n",
    "\n",
    "```\n",
    "\n",
    "In the lines of code above, when Python executes the line `if x < 100`, it will take a look a the `x < 100` section and turn it into the boolean value `True` or `False` depending on whether `x` really is `< 100`.\n",
    "\n",
    "If the boolean value is `True`, then the line of code becomes:\n",
    "\n",
    "```python\n",
    "if True:\n",
    "    print(\"x is smaller than 100!\")\n",
    "```\n",
    "\n",
    "And Python will print.\n",
    "\n",
    "Else, if `x` is not `< 100`, the line will become:\n",
    "\n",
    "```python\n",
    "if False:\n",
    "    print(\"x is smaller than 100!\")\n",
    "```\n",
    "\n",
    "And Python *will not* print anything."
   ]
  },
  {
   "cell_type": "markdown",
   "metadata": {},
   "source": [
    "## Loops"
   ]
  },
  {
   "cell_type": "markdown",
   "metadata": {},
   "source": [
    "Okay, so after we learned about variables what's next?\n",
    "\n",
    "It's Loops!\n",
    "\n",
    "In programming, we use loops to repeat blocks of code.\n",
    "\n",
    "![Loop](https://cdn3.iconfinder.com/data/icons/transfers/100/239329-loop_repeat_refresh-512.png)\n",
    "\n",
    "We use loops because there are many operations in programming we oftentimes want to repeat.\n",
    "\n",
    "Examples:\n",
    "    * Squaring every number in a list of numbers (you want to loop the `square` operation once for each number)\n",
    "    * Printing a countdown (you want to loop the `print` command for each time in your count)\n",
    "\n",
    "There are two types of loops in Python you'll frequently see:\n",
    "\n",
    "#### `while` loop\n",
    "\n",
    "This loop executes as long as some condition is `True`.\n",
    "\n",
    "```python\n",
    "x = 1\n",
    "\n",
    "while x < 10:\n",
    "    print('How many times does this get printed?')\n",
    "    x = x + 1\n",
    "```\n",
    "\n",
    "In the above example, the instructions inside of the loop will be executed as long as the condition `x < 10` remains true.\n",
    "\n",
    "**Question**: How many times does the above get printed? Are you sure? Make a code cell below (Insert > Insert Cell Below), copy the code into it  and run it.\n",
    "\n",
    "\n",
    "#### `for` loop\n",
    "\n",
    "A `for` loop is traditionally used to run a block of code a set number of times, rather than until a condition is done.\n",
    "\n",
    "```python\n",
    "for x in range(0, 5):\n",
    "    print('How many times does this get printed?')\n",
    "\n",
    "```\n",
    "\n",
    "If you want to learn more about loops, you can watch the video below."
   ]
  },
  {
   "cell_type": "code",
   "execution_count": 10,
   "metadata": {},
   "outputs": [
    {
     "data": {
      "text/html": [
       "<iframe width=\"560\" height=\"315\" src=\"https://www.youtube-nocookie.com/embed/6iF8Xb7Z3wQ?rel=0\" frameborder=\"0\" allow=\"autoplay; encrypted-media\" allowfullscreen></iframe>"
      ],
      "text/plain": [
       "<IPython.core.display.HTML object>"
      ]
     },
     "execution_count": 10,
     "metadata": {},
     "output_type": "execute_result"
    }
   ],
   "source": [
    "HTML(\"\"\"<iframe width=\"560\" height=\"315\" src=\"https://www.youtube-nocookie.com/embed/6iF8Xb7Z3wQ?rel=0\" frameborder=\"0\" allow=\"autoplay; encrypted-media\" allowfullscreen></iframe>\"\"\")"
   ]
  },
  {
   "cell_type": "code",
   "execution_count": null,
   "metadata": {},
   "outputs": [],
   "source": [
    "## YOUR EXERCISES\n",
    "\n",
    "# 1. Figure out how to write a for-loop AND a while-loop that prints your name exactly 6 times.\n",
    "\n",
    "\n",
    "\n",
    "# 2. Write a loop that prints 'Loop 2' INSIDE of another loop that ALSO prints 'Loop 1'. What happens?\n",
    "\n",
    "\n",
    "\n",
    "# 3. Using either a for- or while-loop, find the sum of the numbers 1, 2, 3 ... 22.\n",
    "# HINT: You may want to make a variable called `total` that gets modified each time the loop runs."
   ]
  },
  {
   "cell_type": "markdown",
   "metadata": {},
   "source": [
    "## Conditionals"
   ]
  },
  {
   "cell_type": "markdown",
   "metadata": {},
   "source": [
    "Conditionals in Python work very much like they do in other programming languages.\n",
    "\n",
    "Conditions are used in Python to check if something is `True` or `False`.\n",
    "\n",
    "You can use the built-in Python operators `if` and `else` to do so.\n",
    "\n",
    "\n",
    "####  if/else\n",
    "\n",
    "```python\n",
    "password = 'nuevamavericks'\n",
    "\n",
    "if password == 'nuevamavericks':\n",
    "    print(\"You've logged in successfully!\")\n",
    "else:\n",
    "    print(\"Wrong password. Try again\")\n",
    "```\n",
    "\n",
    "\n",
    "#### if/elif/else\n",
    "You can insert another clause called the `elif` clause. It will execute if the above `if` and `elif` clauses did not execute.\n",
    "\n",
    "```python\n",
    "today = 'Wednesday'\n",
    "\n",
    "if today == 'Monday':\n",
    "    print(\"It's Monday!\")\n",
    "elif today == 'Tuesday':\n",
    "    print(\"It's actually Tuesday\")\n",
    "else:\n",
    "    print(\"It must be Wed-Sun.\")\n",
    "```\n",
    "\n",
    "#### Multiple Conditions\n",
    "If there are multiple conditions you want to check, you can use the `and` operator. You can also use the `or` operator.\n",
    "\n",
    "\n",
    "###### The **`and`** operator\n",
    "```python\n",
    "day = 'Monday'\n",
    "month = 'August'\n",
    "\n",
    "if day == 'Monday' and month == 'August':\n",
    "    print(\"It's a Monday AND its August!\")\n",
    "else:\n",
    "    print(\"It is some other day or month.\")\n",
    "\n",
    "```\n",
    "\n",
    "###### The **`or`** operator\n",
    "```python\n",
    "day = 'Monday'\n",
    "month = 'August'\n",
    "\n",
    "if day == 'Monday' or month == 'August':\n",
    "    print(\"It's EITHER Monday or August!\")\n",
    "else:\n",
    "    print(\"It is some other day or month.\")\n",
    "\n",
    "```"
   ]
  },
  {
   "cell_type": "code",
   "execution_count": null,
   "metadata": {},
   "outputs": [],
   "source": [
    "## YOUR EXERCISES\n",
    "\n",
    "# 1. Write a Python program to print all numbers which are divisible by 7 OR a multiple of 5, between 1500 and 2700 (inclusive).\n",
    "# HINT: You will need to use loops AND conditions.\n",
    "# HINT: The `%` operator returns the REMAINDER when one number is divided by another. Look up how to use this in Python.\n",
    "\n",
    "### YOUR CODE HERE"
   ]
  },
  {
   "cell_type": "code",
   "execution_count": null,
   "metadata": {},
   "outputs": [],
   "source": [
    "# 2. Write a Python program to convert temperatures to and from celsius and fahrenheit.\n",
    "\n",
    "temp = '65C'\n",
    "\n",
    "converted_temp = '???'\n",
    "\n",
    "### YOUR CODE HERE\n",
    "# It should use the variable temp and successfully convert it into a \n",
    "# string that represents the Fahrenheit degree IF it is in Celcius. (e.g., '100F')\n",
    "# Otherwise, it should convert the degree into Celcius if the original degree\n",
    "# is in Fahrenheit.\n"
   ]
  },
  {
   "cell_type": "code",
   "execution_count": null,
   "metadata": {},
   "outputs": [],
   "source": [
    "# 3. Write a program that prints out the first 10 numbers in the Fibonacci sequences.\n",
    "\n",
    "### YOUR CODE HERE"
   ]
  },
  {
   "cell_type": "markdown",
   "metadata": {},
   "source": [
    "## Lists"
   ]
  },
  {
   "cell_type": "markdown",
   "metadata": {},
   "source": [
    "If you want a refresher or tutorial, [read over this introduction to lists](https://github.com/carlshan/intro_to_computer_programming/blob/master/Lists/Lists_Tutorial.md).\n",
    "\n",
    "**Exercises**: Visit [this link](https://github.com/carlshan/intro_to_computer_programming/blob/master/Lists/Exercises.md) and complete as many of the exercises as you can."
   ]
  },
  {
   "cell_type": "code",
   "execution_count": null,
   "metadata": {},
   "outputs": [],
   "source": [
    "## WRITE CODE FOR EXERCISES BELOW\n",
    "# Remember that you can always insert a new code cell below by pressing 'b'\n",
    "\n"
   ]
  },
  {
   "cell_type": "markdown",
   "metadata": {},
   "source": [
    "## Functions"
   ]
  },
  {
   "cell_type": "markdown",
   "metadata": {},
   "source": [
    "If you want a refresher or tutorial, [read over this introduction to functions](https://github.com/carlshan/intro_to_computer_programming/blob/master/Functions/Understanding_Functions.md)\n",
    "\n",
    "**Exercises**: Visit [this link](https://github.com/carlshan/intro_to_computer_programming/blob/master/Functions/Functions_Exercises.md) and complete as many of the exercises as you can."
   ]
  },
  {
   "cell_type": "code",
   "execution_count": null,
   "metadata": {},
   "outputs": [],
   "source": [
    "## WRITE CODE FOR EXERCISES BELOW\n",
    "# Remember that you can always insert a new code cell below by pressing 'b'\n",
    "\n"
   ]
  },
  {
   "cell_type": "markdown",
   "metadata": {},
   "source": [
    "## Dictionaries"
   ]
  },
  {
   "cell_type": "markdown",
   "metadata": {},
   "source": [
    "If you want a refresher or tutorial, [read over this introduction to dictionaries](https://github.com/carlshan/intro_to_computer_programming/blob/master/Dictionaries/DictionaryTutorial.md)\n",
    "\n",
    "**Exercises**: Visit [this link](https://github.com/carlshan/intro_to_computer_programming/blob/master/Dictionaries/DictionaryAssignment.md) and complete as many of the exercises as you can."
   ]
  },
  {
   "cell_type": "code",
   "execution_count": null,
   "metadata": {},
   "outputs": [],
   "source": [
    "## WRITE CODE FOR EXERCISES BELOW\n",
    "# Remember that you can always insert a new code cell below by pressing 'b'\n",
    "\n"
   ]
  }
 ],
 "metadata": {
  "kernelspec": {
   "display_name": "Python 3",
   "language": "python",
   "name": "python3"
  },
  "language_info": {
   "codemirror_mode": {
    "name": "ipython",
    "version": 3
   },
   "file_extension": ".py",
   "mimetype": "text/x-python",
   "name": "python",
   "nbconvert_exporter": "python",
   "pygments_lexer": "ipython3",
   "version": "3.7.2"
  },
  "toc": {
   "base_numbering": 1,
   "nav_menu": {},
   "number_sections": false,
   "sideBar": false,
   "skip_h1_title": false,
   "title_cell": "Table of Contents",
   "title_sidebar": "Contents",
   "toc_cell": false,
   "toc_position": {},
   "toc_section_display": false,
   "toc_window_display": false
  }
 },
 "nbformat": 4,
 "nbformat_minor": 2
}
