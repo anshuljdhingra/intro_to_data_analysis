{
 "cells": [
  {
   "cell_type": "markdown",
   "metadata": {},
   "source": [
    "# Statistical Inference: Intro to Hypothesis Testing\n",
    "\n",
    "By Carl Shan with credit to [Cyrille Rossant](https://cyrille.rossant.net/) and [Chris Ketelson](https://www.cs.colorado.edu/~ketelsen/index.html) for inspiration and examples."
   ]
  },
  {
   "cell_type": "markdown",
   "metadata": {},
   "source": [
    "# Instructions\n",
    "\n",
    "This notebook introduces the idea of hypothesis testing to you through simulation, examples and exercises.\n",
    "\n",
    "Please go through this notebook, completing the exercises as you come across them.\n",
    "\n",
    "Here are the major sections of this notebook:\n",
    "\n",
    "1. [Start-Here: You're at the Carnival](#Start-Here:-You're-at-the-Carnival)\n",
    "2. [Intro to Hypothesis Testing](#Introduction-to-Hypothesis-Testing)\n",
    "3. [Hypothesis Testing: Understanding Through Statistics](#Hypothesis-Testing:-Understanding-through-Statistics)\n",
    "4. [The Z-Test](#A-new-idea:-The-Z-Test)\n",
    "5. [More Programming and Probability Exercises](#More-Programming-and-Probability-Exercises)"
   ]
  },
  {
   "cell_type": "markdown",
   "metadata": {},
   "source": [
    "## Start Here: You're at the Carnival\n",
    "\n",
    "> Imagine you're at the carnival.\n",
    "> \n",
    "> ![Carnival](https://today.uic.edu/files/2017/10/IMG_0513-1000x667.jpg)\n",
    ">\n",
    "> A carnie waves to you, drawing you to their booth. \n",
    ">\n",
    "> They tell you the following: you get to play a coin-flip game for \\$10. If the carnie flips a `tails`, you win \\$25. Otherwise, if they flip `heads`, you don't win anything.\n",
    ">\n",
    "> Each time you play this game, you have to pay \\$10.\n",
    "\n",
    "\n"
   ]
  },
  {
   "cell_type": "markdown",
   "metadata": {},
   "source": [
    "**Exercise 1**: Is this a good bet for you? Why or why not? Write your answer below.\n",
    "\n",
    "If you are unsure, you can also simulate playing this game and calculate your average profit/loss over many runs."
   ]
  },
  {
   "cell_type": "code",
   "execution_count": null,
   "metadata": {},
   "outputs": [],
   "source": [
    "### YOUR ANSWER OR CODE HERE ###\n",
    "\n",
    "\n",
    "\n",
    "\n",
    "\n",
    "\n"
   ]
  },
  {
   "cell_type": "markdown",
   "metadata": {},
   "source": [
    "> Now, say you decide to play this game.\n",
    "> \n",
    "> You hand over \\$10 and the carnie flips the coin.\n",
    "> \n",
    "> The coin flips `heads`.\n",
    "> \n",
    "> \"No problem\" you say to yourself underneath your breath. You fork over another \\$10. `heads` again. That's not good. You're out $20.\n",
    ">\n",
    "> You furrow your brow and frown. Something doesn't seem right here.\n",
    "> \n",
    "> Suspicious, you declare that you won't play another round until you have had a chance to inspect the coin again.\n",
    "> \n",
    "> The carnie smiles slyly, handing you over the coin.\n",
    "> \n",
    "> You take it, weighing it in your hand. You can't tell for sure, but you think there's some *small, nearly inperceptible* difference in weight from coins you felt in the past.\n",
    "> \n",
    "> You decide to conduct a test. You quickly flip the coin 100 times in a row.\n",
    "> You see the following data.\n",
    "> ```python\n",
    "       ['H', 'T', 'H', 'T', 'T', 'T', 'H', 'H', 'T', 'T', 'H', 'H', 'H',\n",
    "       'H', 'H', 'T', 'T', 'H', 'T', 'T', 'T', 'H', 'H', 'H', 'H', 'H',\n",
    "       'H', 'H', 'H', 'H', 'H', 'H', 'T', 'H', 'H', 'H', 'T', 'H', 'H',\n",
    "       'H', 'H', 'H', 'H', 'H', 'T', 'T', 'H', 'T', 'T', 'H', 'H', 'T',\n",
    "       'T', 'H', 'T', 'T', 'H', 'H', 'H', 'H', 'H', 'T', 'H', 'H', 'T',\n",
    "       'T', 'T', 'H', 'H', 'H', 'H', 'T', 'T', 'H', 'T', 'H', 'H', 'H',\n",
    "       'H', 'H', 'T', 'H', 'H', 'H', 'H', 'H', 'H', 'H', 'H', 'H', 'H',\n",
    "       'H', 'T', 'T', 'H', 'T', 'H', 'H', 'H', 'H']\n",
    "```"
   ]
  },
  {
   "cell_type": "markdown",
   "metadata": {},
   "source": [
    "**Exercise 2**: Copy the `list` above into the code cell below. Write some code that counts the total number of heads that occurred."
   ]
  },
  {
   "cell_type": "code",
   "execution_count": null,
   "metadata": {},
   "outputs": [],
   "source": [
    "### YOUR CODE HERE ###\n",
    "\n",
    "\n",
    "\n",
    "\n",
    "\n",
    "\n"
   ]
  },
  {
   "cell_type": "markdown",
   "metadata": {},
   "source": [
    "Hmmm, okay. So you do seem to get a suspiciously large number of heads. But is it a rigged game? Or did this come up by chance?\n",
    "\n",
    "How can you tell, and what evidence do you have?\n",
    "\n",
    "Fortunately, we have various statistical methods that we can use to answer questions like this. \n",
    "\n",
    "### Exercise 3\n",
    "\n",
    "1. In the cell below, describe if you think this data indicates that the coin is rigged. Why or why not?\n",
    "2. How many `heads` would have to come up in `100` flips for you to be *certain* that the coin is rigged? \n",
    "3. How many `heads` would have to come up in `100` flips for you to be *pretty confident* that the coin is rigged? \n",
    "4. How many `heads` would have to come up in `100` flips for you to be *somewhat confident* that the coin is rigged? \n",
    "5. How did you come up with the number of `heads` you require for questions `2` through `4`?"
   ]
  },
  {
   "cell_type": "code",
   "execution_count": null,
   "metadata": {},
   "outputs": [],
   "source": [
    "\"\"\"\n",
    "Write your responses here:\n",
    "\n",
    "1. Do you think this data indicates that the coin is rigged? Why or why not?\n",
    "\n",
    "\n",
    "\n",
    "\n",
    "2. How many heads would have to come up in 100 flips for you to be certain that the coin is rigged?\n",
    "\n",
    "\n",
    "\n",
    "\n",
    "3. How many heads would have to come up in 100 flips for you to be pretty confident that the coin is rigged?\n",
    "\n",
    "\n",
    "\n",
    "\n",
    "4. How many heads would have to come up in 100 flips for you to be somewhat confident that the coin is rigged?\n",
    "\n",
    "\n",
    "\n",
    "\n",
    "5. How did you come up with the number of heads you require for questions 2 through 4?\n",
    "\n",
    "\n",
    "\n",
    "\"\"\"\n"
   ]
  },
  {
   "cell_type": "markdown",
   "metadata": {},
   "source": [
    "# Introduction to Hypothesis Testing\n",
    "\n",
    "\n",
    "## What you will learn\n",
    "Alright, so you came up with some numbers in the previous exercises. Now we're going to make things more precise. \n",
    "\n",
    "You're going to learn a statistical method to collect data figure out if the coin is fair/unfair to *any degree of certainty you choose*.\n",
    "\n",
    "\n",
    "## What is hypothesis testing?\n",
    "So you have some data. And what you're wondering is which of the two situations you're in:\n",
    "\n",
    "    Hypothesis 1. The coin is fair. You're not being ripped off. The data just happened to end up the way that it is due to pure, random chance.\n",
    "    Hypothesis 2. The coin is unfair. The data is that way because the coin is biased.\n",
    "    \n",
    "\n",
    "In statistics, we call `Hypothesis 1` the **null** hypothesis because it represents *no strange phenomena occurring*. Usually the **null hypothesis** is the one we don't believe is true.\n",
    "\n",
    "![Hypothesis testing](http://statisticslectures.com/images/null1.gif)\n",
    "\n",
    "In this example, `Hypothesis 2` is what we are actually suspicious of. We call it our **alternative hypothesis**.\n",
    "\n",
    "\n",
    "## Which hypothesis is true: null or alternative?\n",
    "\n",
    "So which situation are you more likely to be in: are you being ripped off with an unfair coin (**alternative hypothesis**) or did the coin just generate the data by chance (**null hypothesis**).\n",
    "\n",
    "Statisticians have invented a way to help you figure things out. It's called `Statistical Hypothesis Testing`.\n",
    "\n",
    "It allows you to distinguish between which Hypothesis is more likely to be true.\n",
    "\n",
    "Read on to learn how it works."
   ]
  },
  {
   "cell_type": "markdown",
   "metadata": {},
   "source": [
    "## Statistical Hypothesis Testing: How it works\n",
    "\n",
    "Statistical hypothesis testing's approach is to answer the following: IF the coin IS fair, HOW LIKELY is it to have created this data?\n",
    "\n",
    "If even a fair coin is pretty likely to have created the data we saw above, then we shrug our shoulders and say, \"Well I guess I can't really conclude that the coin is unfair.\"\n",
    "\n",
    "But if there's only a tiny chance (e.g., `0.0000000000001%`) of a fair coin producing the data we saw, then we say \"Ah ha! It's very unlikely Hypothesis 1 is true, so therefore it's much more likely for Hypothesis 2 to be correct.\"\n",
    "\n",
    "Alright, we've more clearly defined our problem. \n",
    "\n",
    "    Original question: Which hypothesis is right? Hypothesis 1: coin is fair or Hypothesis 2: coin is unfair?\n",
    "\n",
    "    New question: how likely is it that a fair coin could have produced this data?\n",
    "\n",
    "So we now have to figure this out."
   ]
  },
  {
   "cell_type": "markdown",
   "metadata": {},
   "source": [
    "### Modeling Coin Flips\n",
    "\n",
    "Let's write some code to help us understand how to perform hypothesis testing.\n",
    "\n",
    "**Exercise 4**: Write some code that simulates a coin flip. Use this code to simulating flipping it 100 times and calculate the number of heads that shows up in those 100 flips."
   ]
  },
  {
   "cell_type": "code",
   "execution_count": null,
   "metadata": {},
   "outputs": [],
   "source": [
    "### YOUR CODE HERE\n",
    "\n",
    "\n",
    "\n",
    "\n",
    "\n",
    "\n"
   ]
  },
  {
   "cell_type": "markdown",
   "metadata": {},
   "source": [
    "**Exercise 5:** Call what you did in **Exercise 4** a \"trial\". Now, write some code that performs this trial 1000 times. In other words, your code should simulate the following 1000 times:\n",
    "* flip 100 coins\n",
    "* count the number of heads\n",
    "\n",
    "Then plot a histogram of the number of heads that you calculated. (Remember to `%pylab inline` if you want to plot in the notebook)."
   ]
  },
  {
   "cell_type": "code",
   "execution_count": null,
   "metadata": {},
   "outputs": [],
   "source": [
    "### YOUR CODE HERE\n",
    "\n",
    "\n",
    "\n",
    "\n",
    "\n",
    "\n",
    "\n"
   ]
  },
  {
   "cell_type": "markdown",
   "metadata": {},
   "source": [
    "**Exercise 6**:\n",
    "Answer the following question: \n",
    "* What does the shape of distribution of the histogram remind you of? Is it similar to anything you've seen before?\n",
    "* Write some code that calculates the following: What % of the time time does the number of heads that turns up EQUAL OR EXCEED the suspicious number of times that the carnival's coin generated?\n",
    "\n",
    "**NOTE**: The above proportion is called the `p-value` in statistics (it's called `p-value` because it means `probability value`)."
   ]
  },
  {
   "cell_type": "code",
   "execution_count": null,
   "metadata": {},
   "outputs": [],
   "source": [
    "### YOUR ANSWER AND CODE HERE\n",
    "\n",
    "\n",
    "\n",
    "\n",
    "\n",
    "\n"
   ]
  },
  {
   "cell_type": "markdown",
   "metadata": {},
   "source": [
    "**Exercise 7:** Given that the number of heads in your simulation only occurred that many times, which hypothesis do you think is more likely? Why?**\n",
    "\n",
    "     Hypothesis 1. The coin is fair. You're not being ripped off. The data just happened to end up the way that it is due to pure, random chance.\n",
    "     Hypothesis 2. The coin is unfair. The data is that way because the coin is biased."
   ]
  },
  {
   "cell_type": "code",
   "execution_count": null,
   "metadata": {},
   "outputs": [],
   "source": [
    "### YOUR ANSWER AND EXPLANATION HERE\n",
    "\n",
    "\n",
    "\n",
    "\n",
    "\n"
   ]
  },
  {
   "cell_type": "markdown",
   "metadata": {},
   "source": [
    "***"
   ]
  },
  {
   "cell_type": "markdown",
   "metadata": {},
   "source": [
    "## Hypothesis Testing: Understanding through Statistics\n",
    "\n",
    "(Make sure you've completed the above exercises before moving forward into this section.)\n",
    "\n",
    "We're now going to break down the code you wrote above into statistical terms to help you understand.\n",
    "\n",
    "### The first statistical idea: `alpha`\n",
    "\n",
    "Based on your simulation, the probability of the suspicious data happening if the coin was really fair should be some small percentage. \n",
    "\n",
    "Let's call it `X`.\n",
    "\n",
    "Let's also come up with another idea called our `risk tolerance`. It should be a number between `0` and `1`. The idea behind the `risk tolerance` is that if `X` falls beneath our risk tolerance threshold, we are comfortable claiming that the coin is rigged.\n",
    "\n",
    "If your `risk tolerance` is `0.10` or `10%`, that means you will only claim the coin is rigged IF the data the coin generates happens `< 10%` of the time.\n",
    "\n",
    "Call this `risk tolerance` threshold `alpha`. (The Greek letter `alpha` is $\\alpha$.)\n",
    "\n",
    "So, if `X < alpha`, then we say the coin is rigged. \n",
    "\n",
    "Else, we say that we don't have sufficient evidence to claim that the coin is rigged.\n",
    "\n",
    "For example, `X` is really low (e.g., `0.0001%`), then that means with a fair coin we would see the data we observed < `0.0001%` of the time. \n",
    "\n",
    "So if our \"suspiciousness threshold\" is `5%` or `0.05`, then we should claim the coin is rigged!\n",
    "\n",
    "![alpha](https://www.statisticshowto.datasciencecentral.com/wp-content/uploads/2014/01/p-value1.jpg)"
   ]
  },
  {
   "cell_type": "markdown",
   "metadata": {},
   "source": [
    "### Seeing `alpha` in real life\n",
    "\n",
    "The \"threshold\" that our data needs to be that we pick to say that the game is rigged is known in statistics as `alpha`. (It's also known as the `critical value`). You can think of it as our \"bar for rejecting Hypothesis 1\". If our chance of the observed data showing up under Hypothesis 1 is lower than the `alpha`, then we will say that \"the data leads us to believe that Hypothesis 1 is false.\"\n",
    "\n",
    "**What does it mean to pick a lower or higher `alpha`?**\n",
    "\n",
    "The smaller you pick your `risk threshold` of `alpha` to be, the less likely we are to say that things are \"rigged\", because the harder it is for our data to be smaller than the bar.\n",
    "\n",
    "So `alpha` is really up to you!\n",
    "\n",
    "There is no *right* `alpha` to pick. It depends on how risk tolerant you are.\n",
    "\n",
    "\n",
    "**NOTE**: In statistics we have multiple names for the same idea. `alpha` is also known as the `critical value`.\n",
    "\n",
    "**What do people typically choose as their `alpha`?**\n",
    "\n",
    "Usually in many fields of social science research, the `alpha` is set to `0.05`. In other words, the data researchers get needs to be so rare as to only occur 95% of the time before we can safely declare that something funky is going on and the null hypothesis can't be true.\n",
    "\n",
    "\n"
   ]
  },
  {
   "cell_type": "markdown",
   "metadata": {},
   "source": [
    "### Example to help you understand\n",
    "\n",
    "Imagine if you work in college admissions.\n",
    "\n",
    "Two personal essays written by two students who attend the same school show up on your desk. \n",
    "\n",
    "As you read them, you notice something suspicious.\n",
    "\n",
    "![Admissions Officer](https://ak0.picdn.net/shutterstock/videos/3024700/thumb/1.jpg)\n",
    "\n",
    "Uh oh.\n",
    "\n",
    "The two essays share the same theme, essay structure and many of the same words! In fact, you find 4 different sentences in the two essays that are **exactly the same**.\n",
    "\n",
    "That's unusual.\n",
    "\n",
    "Given your background, you know that this doesn't happen often. \n",
    "\n",
    "You suspect that there might be some plagarism going on.\n",
    "\n",
    "But at the same time, you don't want to false accuse any students of plagarism. Maybe this just happened by chance. It's certainly possible when there are tens of thousands of students applying to college each year.\n",
    "\n",
    "So you run the two papers through an online plagarism detector that prints out the probability that the essays are plagarized.\n",
    "\n",
    "You cross your fingers and say to yourself, \"unless the online plagarism software says it's 98% confident that there's plagarism going on, I'm not going to reject these two students. After all, I only want to act if I'm sure.\"\n",
    "\n",
    "**\\*\\*BEEP\\*\\***\n",
    "\n",
    "Your computer signals that it's done crunching the data.\n",
    "\n",
    "You read the printout on the screen.\n",
    "\n",
    "**\"THERE IS A 97% CHANCE THAT ONE OF THE TWO ESSAYS PLAGARIZED THE OTHER\"**\n",
    "\n",
    "You sigh."
   ]
  },
  {
   "cell_type": "markdown",
   "metadata": {},
   "source": [
    "**Exercise 8**: In the above example, what is the `null hypothesis`, `alternative hypothesis` and `alpha`?\n",
    "\n",
    "If you were the admissions officer, would you reject the students from your college for plagarism given the evidence and the `alpha` level? Why or why not?"
   ]
  },
  {
   "cell_type": "code",
   "execution_count": null,
   "metadata": {},
   "outputs": [],
   "source": [
    "### YOUR ANSWER AND EXPLANATION HERE\n",
    "\n",
    "\n",
    "\n",
    "\n",
    "\n",
    "\n"
   ]
  },
  {
   "cell_type": "markdown",
   "metadata": {},
   "source": [
    "**Exercise 9**: Simulating `alpha` (aka the `critical value`)\n",
    "\n",
    "Let's go back to the carnival example with coin flips and see if we can use our newfound knowledge of `alpha` values.\n",
    "\n",
    "Your exercise: write a function called `is_rigged()` that takes in the following inputs:\n",
    "\n",
    "* a parameter called `flips` which will be a list of \"H\" and \"T\".\n",
    "* a threshold parameter called `alpha`\n",
    "\n",
    "Your function should do the following:\n",
    "\n",
    "* return `True` if the number of heads that you're checking appears less than `alpha` percentage of the time after some number of trials. \n",
    "* return `False` otherwise.\n",
    "\n",
    "\n",
    "**Example**\n",
    "\n",
    "* For example, if you get 58 heads, how many times does 58 heads or more come up with a fair coin in 1000 trials?\n",
    "* If the percentage of times 58 heads or more came up is less than `alpha` percent, then you should return `True` because you believe things are rigged.\n",
    "* But if the percentage of times 58 or more heads came up is more than `alpha`, then you can't be sure it's rigged. After all, maybe it was just a fluke.\n",
    "\n",
    "In other words, your function should be your best guess as to whether the game is rigged or not."
   ]
  },
  {
   "cell_type": "code",
   "execution_count": null,
   "metadata": {},
   "outputs": [],
   "source": [
    "#### YOUR CODE HERE\n",
    "\n",
    "\n",
    "\n",
    "\n",
    "\n",
    "\n",
    "\n",
    "\n",
    "\n",
    "\n",
    "\n",
    "\n",
    "\n"
   ]
  },
  {
   "cell_type": "markdown",
   "metadata": {},
   "source": [
    "## A new idea: The Z-Test\n",
    "\n",
    "In the examples you've done above, you were able to simulate a coin flip a bunch of times.\n",
    "\n",
    "What if you can't easily simulate it?\n",
    "\n",
    "Now, many times in statistics we don't always run a lot of simulations and compare our data with how the simulations went.\n",
    "\n",
    "We can also mathematically figure out, based upon a number of different factors.\n",
    "\n",
    "In the above coin-flipping example at the Carnival, we had two hypotheses: \n",
    "* H1 - the coin is fair \n",
    "* H2 - the coin is unfair.\n",
    "\n",
    "We typically call `H1` the `null hypothesis` because it represents a \"normal\", \"no change\" or `null` scenario.\n",
    "\n",
    "We call `H2` the `alternative hypothesis` because it's what we believe to be true if the `null hypothesis` is false.\n",
    "\n",
    "The percentage of times that of times that we flipped a fair coin and got AS or MORE heads than our data is called the `p-value`.\n",
    "\n",
    "If the `p-value` is small and less than our `alpha` threshold, then it's unlikely our data was generated under the scenario of the `null hypothesis`. Thus we would reject the `null hypothesis` in favor of the `alternative hypothesis`.\n",
    "\n",
    "\n",
    "**... I'm still a bit confused about all this stuff. `alpha`, and `p-value` and `hypothesis` ...**\n",
    "\n",
    "If you are still confused and looking to learn more, you can use one of the resources below:\n",
    "\n",
    "* [11 min video by Khan Academy](https://www.youtube.com/watch?v=-FtlH4svqx4)\n",
    "* [Short article](https://www.dummies.com/education/math/statistics/what-a-p-value-tells-you-about-statistical-data/)\n",
    "\n",
    "\n",
    "**Okay. I'm a bit less confused now.**\n",
    "\n",
    "Great, let's keep on going!\n",
    "\n",
    "To get the `p-value`, we need to calculate something called the `z-score` which will be what you do here in this example."
   ]
  },
  {
   "cell_type": "markdown",
   "metadata": {},
   "source": [
    "### Understanding how to calculate z-score\n",
    "\n",
    "Building on our example with coin flips, let's suppose that after `trials=100` flips, we get `heads=61` heads. We choose an `alpha` level of `0.05`: is the coin fair or not? Our null hypothesis is: the coin is fair, so `chance=0.5`."
   ]
  },
  {
   "cell_type": "markdown",
   "metadata": {},
   "source": [
    "Now it's time to calculate the z-score.\n",
    "\n",
    "The equation for the z-score is below:\n",
    "\n",
    "$$ zScore = \\frac{numHeads - numExpectedHeads}{standardDeviation} $$\n",
    "\n",
    "Where the quantities are computed in the following way:\n",
    "\n",
    "> $numHeads$ is the number of heads you got.\n",
    "> \n",
    "> $numExpectedHeads$ is the number of heads you'd expect to get in a 100 flips with a fair coin.\n",
    "> \n",
    "> $standardDeviation = \\sqrt{chanceOfHeadsIfFair * (1 - chanceOfHeadsIfFair) * numTrials}$\n",
    "\n",
    "**NOTE:** I know that the above formula for standard deviation is different than ones you may have learned in a other math classes. Don't worry. However it can be mathematically proven that the standard deviation for something like a coin toss is equivalent to the above. \n",
    "\n",
    "The $standardDeviation$ equation above will give you the \"number of heads that will deviate from the $numExpectedHeads$\".\n",
    "\n",
    "If you want to investigate, the formula above is the [standard deviation of the Binomial distribution](https://en.wikipedia.org/wiki/Binomial_distribution#Variance)."
   ]
  },
  {
   "cell_type": "markdown",
   "metadata": {},
   "source": [
    "**Exercise 10** Using the formula and variables defined above, calculate the z-score of the above example using the variables I define for you in the cell."
   ]
  },
  {
   "cell_type": "code",
   "execution_count": null,
   "metadata": {},
   "outputs": [],
   "source": [
    "#### YOUR CODE HERE\n",
    "\n",
    "numTrials = 100  # number of coin flips\n",
    "numHeads = 61  # number of heads\n",
    "numExpectedHeads = _____ # what is the expected number of heads you'd get in 100 flips?\n",
    "chanceOfHeadsIfFair = .5  # null-hypothesis of fair coin\n",
    "\n",
    "\n",
    "\n",
    "\n",
    "\n"
   ]
  },
  {
   "cell_type": "markdown",
   "metadata": {},
   "source": [
    "## What does the z-score mean?\n",
    "\n",
    "The z-score represents *the number of standard deviations* your data is away from the average outcome, given the null hypothesis a fair coin.\n",
    "\n",
    "The more standard deviations away you are, the less likely that a fair coin produced your data. And the more likely that something else is going on.\n",
    "\n",
    "If you would like to better understand exactly why the z-score is calculated using the equation above, you can use the resources below:\n",
    "\n",
    "* [Watch this 7 min Khan Academy video](https://www.youtube.com/watch?v=Wp2nVIzBsE8)\n",
    "* [Watch this 10 min video combining z-scores and p-values](https://www.youtube.com/watch?v=mai23vW8uFM)"
   ]
  },
  {
   "cell_type": "markdown",
   "metadata": {},
   "source": [
    "## Calcuating the `p-value` using the `z-score`\n",
    "\n",
    "Now using this `z-score`, we can calculate how \"extreme\" it is. In other words, how likely were were likely to get this `z-score` if the coin was truly fair.\n",
    "\n",
    "You're going to calculate the `p-value` given this `z-score`.\n",
    "\n",
    "### Carl, what are `z-score` and `p-value` again?\n",
    "\n",
    "Remember the `z-score` tells you *how many standard deviations* the data you collected is from what you would expect.\n",
    "\n",
    "The larger the `z-score` is, the lower the chance that it was generated purely randomly and the more likely that some interferance or other process is happening.\n",
    "\n",
    "### Okay, what about `p-value`?\n",
    "\n",
    "`p-value` is the *probability that you would have gotten this data under normal circumstances*. \n",
    "\n",
    "Therefore the larger the `z-score` the lower the `p-value`.\n",
    "\n",
    "\n",
    "### Alright, I'm ready.\n",
    "\n",
    "Here's how you're going to do it.\n",
    "\n",
    "There's a function in the `scipy.stats` module called `stats.norm.cdf()` that takes in as input a `z-score` and returns the **probability that your data was NOT as extreme as this z-score**.\n",
    "\n",
    "Now, this isn't quite what you want. But with a little bit of algebra, you can do some basic math on the output of `stats.norm.cdf()` to return the `p-value`.\n",
    "\n",
    "Remember, the `p-value` is the **probablity that your data is MORE extreme than the z-score**.\n",
    "\n",
    "Do some thinking, some basic math, and write some code below that calculates the `p-value` of the `z-score` you calculated above."
   ]
  },
  {
   "cell_type": "code",
   "execution_count": null,
   "metadata": {},
   "outputs": [],
   "source": [
    "# You may need to `pip install scipy` in your Terminal\n",
    "import scipy.stats as stats\n",
    "\n",
    "### YOUR CODE HERE\n",
    "# you will need to use `stats.norm.cdf()` and give this function the z-score that you calculated above.\n",
    "\n",
    "\n",
    "\n",
    "\n",
    "\n"
   ]
  },
  {
   "cell_type": "markdown",
   "metadata": {},
   "source": [
    "***"
   ]
  },
  {
   "cell_type": "markdown",
   "metadata": {},
   "source": [
    "## Additional Reading\n",
    "\n",
    "If you still find yourself confused and wanting a review, you should read this article on [The Basics of Hypothesis Testing](http://20bits.com/article/hypothesis-testing-the-basics) to get another review.\n",
    "\n",
    "You can also see if you can complete the short problems on this [Khan Academy page](https://www.khanacademy.org/math/statistics-probability/significance-tests-one-sample/idea-of-significance-tests/a/p-value-conclusions)."
   ]
  },
  {
   "cell_type": "markdown",
   "metadata": {},
   "source": [
    "## More Programming and Probability Exercises\n",
    "\n",
    "Once you have solved the exercises above, you can work on the ones below. It will help you practice your programming skills, although the exercises below will not directly cover hypothesis testing.\n",
    "\n",
    "You can solve the questions below either by writing a program that simulates the scenario OR by mathematically computing it by hand.\n",
    "\n",
    "**Exericise 1** \n",
    "\n",
    "In six coin tosses, what is the probability of having a different side come up with each throw, that is, that you never get two tails or two heads in a row?"
   ]
  },
  {
   "cell_type": "code",
   "execution_count": null,
   "metadata": {},
   "outputs": [],
   "source": [
    "### YOUR CODE AND/OR ANSWER HERE\n",
    "\n",
    "\n",
    "\n"
   ]
  },
  {
   "cell_type": "markdown",
   "metadata": {},
   "source": [
    "**Exercise 2. Coin Tossing Game**\n",
    "\n",
    "A famous coin tossing game called the [`St. Petersburg Paradox`](https://en.wikipedia.org/wiki/St._Petersburg_paradox) has the following rules: \n",
    "\n",
    "The player tosses a coin repeatedly until a tail appears or tosses it a maximum of 1000 times if no tail appears. \n",
    "\n",
    "The initial stake starts at 2 dollars and is doubled every time heads appears. The first time tails appears, the game ends and the player wins whatever is in the pot. \n",
    "\n",
    "Thus the player wins 2 dollars if tails appears on the first toss, 4 dollars if heads appears on the first toss and tails on the second, 8 dollars if heads appears on the first two tosses and tails on the third, and so on. \n",
    "\n",
    "Mathematically, the player wins $2^k$ dollars, where $k$ equals the number of tosses until the first tail. \n",
    "\n",
    "If it costs $15 to play this game, should you expect to make money in the long run in playing this game?"
   ]
  },
  {
   "cell_type": "code",
   "execution_count": null,
   "metadata": {},
   "outputs": [],
   "source": [
    "### YOUR CODE AND/OR ANSWER HERE\n",
    "\n",
    "\n",
    "\n"
   ]
  },
  {
   "cell_type": "markdown",
   "metadata": {},
   "source": [
    "**Exercise 3**\n",
    "\n",
    "Randomly select three distinct integers $a, b, c$ from the set of numbers $[{1, 2, 3, 4, 5, 6, 7}]$\n",
    "\n",
    "\n",
    "What is the probability that $a + b > c$?"
   ]
  },
  {
   "cell_type": "markdown",
   "metadata": {},
   "source": [
    "# Advanced "
   ]
  },
  {
   "cell_type": "markdown",
   "metadata": {},
   "source": [
    "### Chuck-a-luck\n",
    "***\n",
    "\n",
    "The game Chuck-a-luck is played by rolling 3 dice and betting on a number between 1 and 6. You win your bet multiplied by the number of times your chosen number appears on the the three dice. You lose your bet if your number doesn't appear at all. For example\n",
    "\n",
    "* If you bet $\\$1$ on $5$ and you roll ${3,~4,~5}$ then you get to keep your $\\$1$ plus you win another $\\$1$.\n",
    "* If you bet $\\$1$ on $5$ and roll ${4,~5,~5}$ you get to keep your $\\$1$ plus you win $\\$2$.\n",
    "* On the other hand, if you bet $\\$1$ on $5$ and roll ${2,~3,~4}$ then you lose your $\\$1$.\n",
    "\n",
    "A quick look at this game may make it appear reasonably fair. Since you roll 3 dice and there seems to be a probability $\\frac{1}{2}$ that your chosen number appears and so the odds should be in your favor.\n",
    "\n",
    "**Part A**: Let's write a function called `chuck_a_trial` that takes as its sole required parameter the integer `my_number` that you bet on and returns your winnings or losses. To make things simple, we'll assume that we always bet $\\$1$ on every roll."
   ]
  },
  {
   "cell_type": "code",
   "execution_count": null,
   "metadata": {},
   "outputs": [],
   "source": [
    "### YOUR CODE HERE\n",
    "\n",
    "\n",
    "\n",
    "\n"
   ]
  },
  {
   "cell_type": "markdown",
   "metadata": {},
   "source": [
    "**Part B**: Write a function `chuck_a_luck_simulator` that takes the integer `my_number` that you bet on and runs many simulations of `chuck_a_trial` and computes your average winnings over all of the trials. \n",
    "\n",
    "To control the number of trials in your simulation, add an optional parameter `num_trials` initialized to `1000`."
   ]
  },
  {
   "cell_type": "code",
   "execution_count": null,
   "metadata": {},
   "outputs": [],
   "source": [
    "### YOUR CODE HERE\n",
    "\n",
    "\n",
    "\n",
    "\n"
   ]
  },
  {
   "cell_type": "markdown",
   "metadata": {},
   "source": [
    "**Part C**: Based on your simulation above, how fair or unfair is this game? Or said another way, how much do you expect to win/lose if you play this game for a very long time? Why?"
   ]
  },
  {
   "cell_type": "code",
   "execution_count": null,
   "metadata": {},
   "outputs": [],
   "source": [
    "### YOUR ANSWER AND EXPLANATION HERE\n",
    "\n",
    "\n",
    "\n",
    "\n"
   ]
  },
  {
   "cell_type": "markdown",
   "metadata": {},
   "source": [
    "***"
   ]
  },
  {
   "cell_type": "markdown",
   "metadata": {},
   "source": [
    "### Simulating Roulette\n",
    "*** \n",
    "\n",
    "A Las Vegas roulette board contains 38 numbers $\\{0, 00, 1, 2, \\ldots, 36\\}$. Of the non-zero numbers, 18 are red and 18 are black. You can place bets on various number/color combinations and each type of bet pays-out at a different rate.  For example: \n",
    "\n",
    "- If you bet $\\$1$ on red (or black) and win you win $\\$1$ and get your original $1$ back. \n",
    "- If you bet any particular number and win you win $\\$35$ and get your original $1$ back. \n",
    "- If you bet on the first dozen (1-12), or second dozen (13-24), or third dozen (25-36) nonzero numbers and win you win $\\$2$ and get your original $1$ back. \n",
    "\n",
    "![alt text](https://www.lasvegasdirect.com/wp-content/uploads/2016/09/American-Roulette-Table.gif)\n",
    "\n",
    "\n",
    "If you would like to better understand the game of Roulette, you can [watch this 8-min video](https://www.youtube.com/watch?v=NXUpW2QdN08).\n",
    "\n",
    "\n",
    "It seems like there are so many ways to win!  In reality, some very careful probability theory was done by the game designers to ensure that there is not much difference in any particular payout.  We'll explore roulette both by simulation and by hand in this exercise. \n",
    "\n",
    "\n",
    "You can also see this website for expected payouts of each Roulette combination:\n",
    "\n",
    "* [Roulette payouts](https://www.roulettesites.org/rules/odds/)\n",
    "\n",
    "\n",
    "The following function simulates the spin of a Las Vegas roulette board.  "
   ]
  },
  {
   "cell_type": "code",
   "execution_count": null,
   "metadata": {},
   "outputs": [],
   "source": [
    "import numpy as np\n",
    "\n",
    "def spin_roulette():\n",
    "    \"\"\"\n",
    "        Arguments:\n",
    "        \n",
    "            This function takes in no arguments. \n",
    "        \n",
    "        Return:\n",
    "        \n",
    "            It returns a string.\n",
    "            \n",
    "            The string will be a combination of a number and color representing Roulette combinations.\n",
    "\n",
    "        Examples:\n",
    "\n",
    "            >> spin_roulette()\n",
    "            '1R'\n",
    "\n",
    "            >> spin__roulette()\n",
    "            '13B'\n",
    "    \"\"\"\n",
    "    numbers = np.array([\"0\", \"00\"] + [str(num) for num in range(1, 37)])\n",
    "    red = [str(num) for num in [1,3,5,7,9,12,14,16,18,19,21,23,25,27,30,32,34,36]] \n",
    "    black = [str(num) for num in [2,4,6,8,10,11,13,15,17,20,22,24,26,28,29,31,33,35]]\n",
    "    green = [\"0\", \"00\"]\n",
    "    number = np.random.choice(numbers)\n",
    "    color = \"R\" if number in red else \"B\" if number in black else \"G\"\n",
    "    \n",
    "    return number + color\n",
    "\n"
   ]
  },
  {
   "cell_type": "code",
   "execution_count": null,
   "metadata": {},
   "outputs": [],
   "source": [
    "# Let's make sure it works. Run this cell a few times.\n",
    "spin_roulette()"
   ]
  },
  {
   "cell_type": "markdown",
   "metadata": {},
   "source": [
    "**Part A**: Write some code that estimates the expected winnings by betting on red (or black). \n",
    "\n",
    "In other words, how often do you win money after many trials if you consistently bet on red (or black)?\n",
    "\n",
    "You will need to estimate the probability that red (or black) shows up.\n",
    "\n",
    "Your answer should be close to the payouts on [this website](https://www.roulettesites.org/rules/odds/)."
   ]
  },
  {
   "cell_type": "code",
   "execution_count": null,
   "metadata": {},
   "outputs": [],
   "source": [
    "### YOUR CODE HERE\n",
    "\n",
    "\n",
    "\n",
    "\n",
    "\n"
   ]
  },
  {
   "cell_type": "markdown",
   "metadata": {},
   "source": [
    "**Part B**: Write a function that estimates the expected winnings by betting on a particular number.\n",
    "\n",
    "If write the function correctly, over 100000 or so trials the winnings should settle to be around `-0.052` or `-2/38`.\n",
    "\n",
    "The designers of roulette have intentionally fixed the payouts and probability of the game such that any bet, in the long run, will lose the players money (hence the expected winnings being negative)."
   ]
  },
  {
   "cell_type": "code",
   "execution_count": null,
   "metadata": {},
   "outputs": [],
   "source": [
    "### YOUR CODE HERE\n",
    "\n",
    "\n",
    "\n",
    "\n",
    "\n"
   ]
  },
  {
   "cell_type": "markdown",
   "metadata": {},
   "source": [
    "**Part C**: Write a function that estimates the expected winnings by betting on the first dozen nonzero numbers.\n",
    "\n",
    "Test your function to see if it works correctly. Over 100000 trials, it should also be cose to `-2/38`."
   ]
  },
  {
   "cell_type": "code",
   "execution_count": null,
   "metadata": {},
   "outputs": [],
   "source": [
    "### YOUR CODE HERE\n",
    "\n",
    "\n",
    "\n",
    "\n",
    "\n"
   ]
  }
 ],
 "metadata": {
  "kernelspec": {
   "display_name": "Python 3",
   "language": "python",
   "name": "python3"
  },
  "language_info": {
   "codemirror_mode": {
    "name": "ipython",
    "version": 3
   },
   "file_extension": ".py",
   "mimetype": "text/x-python",
   "name": "python",
   "nbconvert_exporter": "python",
   "pygments_lexer": "ipython3",
   "version": "3.7.2"
  },
  "toc": {
   "base_numbering": 1,
   "nav_menu": {},
   "number_sections": false,
   "sideBar": false,
   "skip_h1_title": false,
   "title_cell": "Table of Contents",
   "title_sidebar": "Contents",
   "toc_cell": false,
   "toc_position": {},
   "toc_section_display": false,
   "toc_window_display": false
  }
 },
 "nbformat": 4,
 "nbformat_minor": 2
}
